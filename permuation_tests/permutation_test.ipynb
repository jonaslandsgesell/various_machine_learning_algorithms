{
 "cells": [
  {
   "cell_type": "markdown",
   "metadata": {},
   "source": [
    "# Permutation Testing"
   ]
  },
  {
   "cell_type": "markdown",
   "metadata": {},
   "source": [
    "Permutation tests (exact tests) allow to check how likely it is that two samples are obtained from the same distribution. This can be very handy in A/B testing.\n",
    "The hypothesis H1 is that the two samples are drawn from two distribution not having the same mean value, while the alternative hypothesis H0 is that were drawn from the same distribution (i.e. distributions which have the same mean value).\n",
    "\n",
    "Given H0 is true, we can swap data between both samples and the test statistic should not change drastically.\n",
    "This is some form of resampling.\n",
    "Then we can compute a statistic measuring for example the difference of mean values or standard devations between the samples.\n",
    "We can then look at the distribution of resampled statistics and compare the original statistic to it.\n",
    "Additionally, we can even compute the p-value using the cumulative distribution function of the resampled statistics."
   ]
  },
  {
   "cell_type": "code",
   "execution_count": 27,
   "metadata": {},
   "outputs": [],
   "source": [
    "import numpy as np\n",
    "import matplotlib.pyplot as plt\n",
    "import copy\n",
    "\n",
    "plt.rcParams[\"figure.figsize\"] = [10, 5]\n",
    "\n",
    "samples_A = np.random.normal(size=100)\n",
    "samples_B = np.random.normal(loc=0.2, size=100)\n",
    "\n",
    "# also try this to see a clear rejection of the null hypothesis\n",
    "# samples_B = np.random.normal(loc=0.5, size=100)\n",
    "# or try\n",
    "# samples_B = np.random.uniform(size=100)\n",
    "\n",
    "\n",
    "def difference_of_mean_values(samples_A, samples_B):\n",
    "    return np.mean(samples_A) - np.mean(samples_B)\n",
    "\n",
    "\n",
    "original_statistic = difference_of_mean_values(samples_A, samples_B)\n",
    "\n",
    "\n",
    "def generate_permutation(samples_A, samples_B):\n",
    "    samples_A = copy.deepcopy(samples_A)\n",
    "    samples_B = copy.deepcopy(samples_B)\n",
    "    for num_i in range(max(len(samples_A), len(samples_B))):\n",
    "        index_B_replacement = np.random.randint(low=0, high=len(samples_B))\n",
    "        index_A_replacement = np.random.randint(low=0, high=len(samples_A))\n",
    "        temp = samples_B[index_B_replacement]\n",
    "        samples_B[index_B_replacement] = samples_A[index_A_replacement]\n",
    "        samples_A[index_A_replacement] = temp\n",
    "    return samples_A, samples_B\n",
    "\n",
    "\n",
    "NUM_PERMUTATIONS = 2000\n",
    "permutated_samples = [\n",
    "    generate_permutation(samples_A, samples_B) for i in range(NUM_PERMUTATIONS)\n",
    "]\n",
    "\n",
    "\n",
    "statistic_values = [\n",
    "    difference_of_mean_values(*permutated_samples[i]) for i in range(NUM_PERMUTATIONS)\n",
    "]"
   ]
  },
  {
   "cell_type": "markdown",
   "metadata": {},
   "source": [
    "Next we plot the distribution of the difference statistic and answer the question: \"How probable is it (given the null hypothesis) that we obtain a statistic as extreme as the one originally reported?\"\n",
    "For this we need to compute the probability of obtaining a result as extreme (in absolute value) as the originally reported one -- this is the two sided p value. We do this via the empirical cumulative distribution function obtained from the histogram of the statistic (under the null hypothesis) and integrate the (empirical) probability density function in the black areas."
   ]
  },
  {
   "cell_type": "code",
   "execution_count": 28,
   "metadata": {},
   "outputs": [
    {
     "name": "stdout",
     "output_type": "stream",
     "text": [
      "Two sided pvalue 0.06683761546995225\n"
     ]
    },
    {
     "data": {
      "image/png": "[encoded data removed]",
      "text/plain": [
       "<Figure size 720x360 with 1 Axes>"
      ]
     },
     "metadata": {
      "needs_background": "light"
     },
     "output_type": "display_data"
    }
   ],
   "source": [
    "import scipy.stats\n",
    "\n",
    "hist = np.histogram(statistic_values, bins=100, density=True)\n",
    "hist_dist = scipy.stats.rv_histogram(hist)\n",
    "\n",
    "probabilitity_smaller_than_abs_original_statistic = hist_dist.cdf(\n",
    "    -abs(original_statistic)\n",
    ")\n",
    "probabilitity_bigger_than_abs_original_statistic = 1 - hist_dist.cdf(\n",
    "    abs(original_statistic)\n",
    ")\n",
    "two_sided_p_value = (\n",
    "    probabilitity_smaller_than_abs_original_statistic\n",
    "    + probabilitity_bigger_than_abs_original_statistic\n",
    ")\n",
    "\n",
    "\n",
    "# cap computed p value to 1/NUM_PERMUTATIONS\n",
    "two_sided_p_value = max(two_sided_p_value, 1.0 / float(NUM_PERMUTATIONS))\n",
    "\n",
    "plt.hist(\n",
    "    statistic_values,\n",
    "    bins=100,\n",
    "    label=\"statistic computed over resamples if H0 is true\",\n",
    "    density=True,\n",
    ")\n",
    "x_values = np.linspace(np.min(statistic_values), np.max(statistic_values))\n",
    "pdf_values = hist_dist.pdf(x_values)\n",
    "plt.vlines(original_statistic, 0, 4, color=\"red\", label=\"original statistic\")\n",
    "\n",
    "plt.fill_between(\n",
    "    x_values,\n",
    "    pdf_values,\n",
    "    where=x_values <= -abs(original_statistic),\n",
    "    color=\"black\",\n",
    "    zorder=2,\n",
    "    alpha=0.7,\n",
    ")\n",
    "plt.fill_between(\n",
    "    x_values,\n",
    "    pdf_values,\n",
    "    where=x_values >= abs(original_statistic),\n",
    "    color=\"black\",\n",
    "    zorder=2,\n",
    "    alpha=0.7,\n",
    "    label=\"extremer values than original statistic\",\n",
    ")\n",
    "plt.legend()\n",
    "print(f\"Two sided pvalue {two_sided_p_value}\")"
   ]
  },
  {
   "cell_type": "code",
   "execution_count": 29,
   "metadata": {},
   "outputs": [
    {
     "name": "stdout",
     "output_type": "stream",
     "text": [
      "          The p value does not support rejecting the null hypothesis. \n",
      "          The samples could come from distributions having the same mean. \n",
      "          Under the null hypothesis pvalue*100 percent many values are as extreme\n",
      "          or more extreme than the originally computed statistic on the samples A and B.\n",
      "          The p value is too high: 0.06683761546995225          \n"
     ]
    }
   ],
   "source": [
    "# When the null hypothesis is actually true, the significance niveau says that the test may at most be rejected\n",
    "# in the fraction alpha of the cases.\n",
    "# Alpha is, therefore, a limit for the false positive rate.\n",
    "# Note that repeated testing with N many datasets can give alpha*N many false positive discoveries seeming\n",
    "# significant because they have a smaller p value than alpha (which is called p-Hacking).\n",
    "# The False negative (FN) error beta is controlled by the statistical power.\n",
    "significance_niveau_alpha = 0.01\n",
    "if two_sided_p_value < significance_niveau_alpha:\n",
    "    print(\n",
    "        f\"\\\n",
    "          The p value indicates that the samples are from two different distributions. \\n\\\n",
    "          The probability that the null hypothesis is correct is {two_sided_p_value}\"\n",
    "    )\n",
    "else:\n",
    "    print(\n",
    "        f\"\\\n",
    "          The p value does not support rejecting the null hypothesis. \\n\\\n",
    "          The samples could come from distributions having the same mean. \\n\\\n",
    "          Under the null hypothesis pvalue*100 percent many values are as extreme\\n\\\n",
    "          or more extreme than the originally computed statistic on the samples A and B.\\n\\\n",
    "          The p value is too high: {two_sided_p_value}\\\n",
    "          \"\n",
    "    )"
   ]
  },
  {
   "cell_type": "markdown",
   "metadata": {},
   "source": [
    "# Statistical Power (TPR of rejecting equality)"
   ]
  },
  {
   "cell_type": "markdown",
   "metadata": {},
   "source": [
    "Next we compute the statistical power (for a given true difference in mean $\\mathrm{true shift}$ and significance niveau ...). The significance niveau of the test allows to assess the false negative rate (beta). Beta is the probability of making a type 2 error, i.e. false negatives (rejecting H1 although it is true)."
   ]
  },
  {
   "cell_type": "code",
   "execution_count": 4,
   "metadata": {},
   "outputs": [],
   "source": [
    "def is_not_equal(samples_A, samples_B, NUM_PERMUTATIONS=120):\n",
    "    # this function tests whether the test for equality should be rejected\n",
    "    # the null hypothesis is that A and B have the same mean\n",
    "    original_statistic = difference_of_mean_values(samples_A, samples_B)\n",
    "\n",
    "    statistic_values = [\n",
    "        difference_of_mean_values(*generate_permutation(samples_A, samples_B))\n",
    "        for i in range(NUM_PERMUTATIONS)\n",
    "    ]\n",
    "\n",
    "    hist = np.histogram(statistic_values, bins=100, density=True)\n",
    "    hist_dist = scipy.stats.rv_histogram(hist)\n",
    "\n",
    "    probabilitity_smaller_than_abs_original_statistic = hist_dist.cdf(\n",
    "        -abs(original_statistic)\n",
    "    )\n",
    "    probabilitity_bigger_than_abs_original_statistic = 1 - hist_dist.cdf(\n",
    "        abs(original_statistic)\n",
    "    )\n",
    "    two_sided_p_value = (\n",
    "        probabilitity_smaller_than_abs_original_statistic\n",
    "        + probabilitity_bigger_than_abs_original_statistic\n",
    "    )\n",
    "\n",
    "    # cap computed p value to 1/NUM_PERMUTATIONS\n",
    "    two_sided_p_value = max(two_sided_p_value, 1.0 / float(NUM_PERMUTATIONS))\n",
    "\n",
    "    significance_niveau_alpha = 0.01\n",
    "    if two_sided_p_value < significance_niveau_alpha:\n",
    "        # samples A and B do not have same mean: p is low, then null must go\n",
    "        return True\n",
    "    else:\n",
    "        # samples A and B have same mean\n",
    "        return False"
   ]
  },
  {
   "cell_type": "code",
   "execution_count": 5,
   "metadata": {},
   "outputs": [
    {
     "name": "stdout",
     "output_type": "stream",
     "text": [
      "Power of test (low is bad): True positive rate for rejecting equality (at the given significance niveau, and shift): 1-beta = 0.56\n",
      "Detecting no differences: False negative rate for rejecting equality is beta =  0.43999999999999995\n"
     ]
    }
   ],
   "source": [
    "NUM_TESTS = 100\n",
    "true_shift = 0.4\n",
    "\n",
    "rejections_equality = []\n",
    "for i in range(NUM_TESTS):\n",
    "    rejections_equality.append(\n",
    "        is_not_equal(\n",
    "            np.random.normal(size=100), np.random.normal(loc=true_shift, size=100)\n",
    "        )\n",
    "    )\n",
    "\n",
    "true_positive_rate = np.average(rejections_equality)\n",
    "print(\n",
    "    \"Power of test (low is bad): True positive rate for rejecting equality (at the given significance niveau, and shift): 1-beta =\",\n",
    "    true_positive_rate,\n",
    ")\n",
    "false_negative_rate = 1 - true_positive_rate\n",
    "print(\n",
    "    \"Detecting no differences: False negative rate for rejecting equality is beta = \",\n",
    "    false_negative_rate,\n",
    ")"
   ]
  },
  {
   "cell_type": "markdown",
   "metadata": {},
   "source": [
    "# Significance Niveau (FPR of rejecting equality) "
   ]
  },
  {
   "cell_type": "code",
   "execution_count": 26,
   "metadata": {},
   "outputs": [
    {
     "name": "stdout",
     "output_type": "stream",
     "text": [
      "    False positive rate for rejecting equality (at the given significance niveau, and shift): \n",
      "    alpha = 0.02142857142857143 +/-0.010735205409918017\n",
      "    Detecting no differences: True negative rate for rejection is 1-alpha = 0.9785714285714285 +/-0.010735205409918017\n"
     ]
    }
   ],
   "source": [
    "NUM_TESTS = 400  # in order to have a chance of estimating the true alpha for our test,\n",
    "# we need at least 2/significance_niveau_alpha\n",
    "true_shift = (\n",
    "    0.0  # Important: with shift 0.0 both samples come from the same distribution\n",
    ")\n",
    "\n",
    "rejections_equality = []\n",
    "for i in range(NUM_TESTS):\n",
    "    rejections_equality.append(\n",
    "        is_not_equal(\n",
    "            np.random.normal(size=100), np.random.normal(loc=true_shift, size=100)\n",
    "        )\n",
    "    )\n",
    "false_positive_rate = np.average(rejections_equality)\n",
    "false_positive_rate_CI = (\n",
    "    1.96 * np.std(rejections_equality, ddof=1) / np.sqrt(NUM_TESTS)\n",
    ")  # Wald confidence interval\n",
    "print(\n",
    "    f\"\\\n",
    "    False positive rate for rejecting equality (at the given significance niveau, and shift): \\n\\\n",
    "    alpha = {false_positive_rate} +/-{false_positive_rate_CI}\"\n",
    ")\n",
    "print(\n",
    "    f\"\\\n",
    "    Detecting no differences: True negative rate for rejection is 1-alpha = {1-false_positive_rate} +/-{false_positive_rate_CI}\"\n",
    ")"
   ]
  }
 ],
 "metadata": {
  "kernelspec": {
   "display_name": "Python 3 (ipykernel)",
   "language": "python",
   "name": "python3"
  },
  "language_info": {
   "codemirror_mode": {
    "name": "ipython",
    "version": 3
   },
   "file_extension": ".py",
   "mimetype": "text/x-python",
   "name": "python",
   "nbconvert_exporter": "python",
   "pygments_lexer": "ipython3",
   "version": "3.8.10"
  }
 },
 "nbformat": 4,
 "nbformat_minor": 4
}
