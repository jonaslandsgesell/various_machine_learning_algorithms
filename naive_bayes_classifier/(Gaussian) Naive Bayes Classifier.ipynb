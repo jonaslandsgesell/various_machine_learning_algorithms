{
 "cells": [
  {
   "cell_type": "markdown",
   "id": "e5f33df2",
   "metadata": {},
   "source": [
    "# (Gaussian) Naive Bayes Classifier"
   ]
  },
  {
   "cell_type": "markdown",
   "id": "22bf5769",
   "metadata": {},
   "source": [
    "Naive Bayes classifier are Bayes classifiers with naively assuming independence of observed features.\n",
    "The Naive Bayes classifier is a maximum a-posteriori classifier, assigning a new sample to the class with highest a-posteriori probability. If an uniformed prior like the uniform distribution is used, then the maximum aposteriori probability (MAP) estimate is equal to the maximum likelihood estimate.\n",
    "\n",
    "Using that the joint probability for observing a class $C_k$ and the observations $x_1, \\dots x_n$ can be rewritten (using the definition of conditional probabilities): \n",
    "\n",
    "$\\begin{align}\n",
    "p(C_k, x_1, \\ldots, x_n) & = p(x_1, \\ldots, x_n, C_k) \\\\\n",
    "                        & = p(x_1 \\mid x_2, \\ldots, x_n, C_k) \\ p(x_2, \\ldots, x_n, C_k) \\\\\n",
    "                        & = p(x_1 \\mid x_2, \\ldots, x_n, C_k) \\ p(x_2 \\mid x_3, \\ldots, x_n, C_k) \\ p(x_3, \\ldots, x_n, C_k) \\\\\n",
    "                        & = \\cdots \\\\\n",
    "                        & = p(x_1 \\mid x_2, \\ldots, x_n, C_k) \\ p(x_2 \\mid x_3, \\ldots, x_n, C_k) \\cdots   p(x_{n-1} \\mid x_n, C_k) \\ p(x_n \\mid C_k) \\ p(C_k) \\\\\n",
    "\\end{align}$\n",
    "\n",
    "we obtain the conditional probability of a class given the observations (assuming mutual independence of observations: $p(x_i \\mid x_{i+1}, \\ldots ,x_{n}, C_k ) = p(x_i \\mid C_k)$):\n",
    "\n",
    "$\n",
    "\\begin{align}\n",
    "p(C_k \\mid x_1, \\ldots, x_n)& = \\frac{p(C_k, x_1, \\ldots, x_n)}{p(x_1, \\ldots, x_n)} \\\\\n",
    "                            & \\varpropto p(C_k, x_1, \\ldots, x_n) \\\\\n",
    "                            & \\varpropto p(C_k) \\ p(x_1 \\mid C_k) \\ p(x_2\\mid C_k) \\ p(x_3\\mid C_k) \\ \\cdots \\\\\n",
    "                            & \\varpropto p(C_k) \\prod_{i=1}^n p(x_i \\mid C_k)\\,,\n",
    "\\end{align}\n",
    "$\n",
    "\n",
    "(compare https://en.wikipedia.org/wiki/Naive_Bayes_classifier )\n",
    "\n",
    "Which is the Naive Bayes classificator.\n",
    "Given a sets of observations which are associated with each class we can compute the naive Bayes classificator via:\n",
    "\n",
    "* coming up with a prior $p(C_k)$ for each class k\n",
    "* computing the conditional probabilities $p(x_i|C_k)$\n",
    "* computing the a-posterior probability $p(C_k \\mid x_1, \\ldots, x_n)$\n",
    "* computing $\\tilde k = \\arg \\max_k p(C_k \\mid x_1, \\ldots x_n)$ which leaves C_{\\tilde k} as MAP estimator of the maximum a-posterior estimator\n",
    "\n",
    "We get the Gaussian Naive Bayes classifier by assuming that $p(x_i|C_k) \\sim \\mathcal{N}$ (i.e. are Gaussian).\n",
    "Let us assume there are classes A and B, as well as features U and W. Then the following constructs the naive Bayes classifier."
   ]
  },
  {
   "cell_type": "code",
   "execution_count": 1,
   "id": "2dbde2cb",
   "metadata": {},
   "outputs": [],
   "source": [
    "from statistics import NormalDist\n",
    "import numpy as np\n",
    "import matplotlib.pyplot as plt\n",
    "from typing import Dict"
   ]
  },
  {
   "cell_type": "code",
   "execution_count": 10,
   "id": "72993773",
   "metadata": {},
   "outputs": [],
   "source": [
    "# generating sample data\n",
    "samples_A = {}\n",
    "mid_u_A = -3\n",
    "mid_w_A = -1\n",
    "num_A = 1000\n",
    "samples_A[\"U\"] = np.random.normal(loc=mid_u_A, size=num_A)\n",
    "samples_A[\"W\"] = np.random.normal(loc=mid_w_A, size=num_A)\n",
    "\n",
    "samples_B = {}\n",
    "mid_u_B = -3\n",
    "mid_w_B = 3\n",
    "num_B = num_A\n",
    "samples_B[\"U\"] = np.random.normal(loc=mid_u_B, size=num_B)\n",
    "samples_B[\"W\"] = np.random.normal(loc=mid_w_B, size=num_B)"
   ]
  },
  {
   "cell_type": "code",
   "execution_count": 11,
   "id": "4f1cfb65",
   "metadata": {},
   "outputs": [],
   "source": [
    "# compute the conditional distributions of u and v depending on the class\n",
    "# internally computes sample mean and sample standard deviation\n",
    "estimated_distribution_U_given_A = NormalDist.from_samples(samples_A[\"U\"])\n",
    "estimated_distribution_W_given_A = NormalDist.from_samples(samples_A[\"W\"])\n",
    "\n",
    "estimated_distribution_U_given_B = NormalDist.from_samples(samples_B[\"U\"])\n",
    "estimated_distribution_W_given_B = NormalDist.from_samples(samples_B[\"W\"])\n",
    "\n",
    "prior_A = num_A / (num_A + num_B)\n",
    "prior_B = num_B / (num_A + num_B)\n",
    "\n",
    "\n",
    "def determine_class(new_sample: Dict[float, float]) -> int:\n",
    "    # returns 0 if the sample is classified to belong to A, or 1 if the sample is classified to belong to B\n",
    "    aposteriori_new_sample_A = (\n",
    "        prior_A\n",
    "        * estimated_distribution_U_given_A.pdf(new_sample[\"U\"])\n",
    "        * estimated_distribution_W_given_A.pdf(new_sample[\"W\"])\n",
    "    )\n",
    "    aposteriori_new_sample_B = (\n",
    "        prior_B\n",
    "        * estimated_distribution_U_given_B.pdf(new_sample[\"U\"])\n",
    "        * estimated_distribution_W_given_B.pdf(new_sample[\"W\"])\n",
    "    )\n",
    "    k_tilde = np.argmax([aposteriori_new_sample_A, aposteriori_new_sample_B])\n",
    "    return k_tilde\n",
    "\n",
    "\n",
    "# new_sample = {\"U\": -0.5, \"W\": -3.5}  # U,W tuple"
   ]
  },
  {
   "cell_type": "markdown",
   "id": "a61bf8ed",
   "metadata": {},
   "source": [
    "Next we plot the decision boundary."
   ]
  },
  {
   "cell_type": "code",
   "execution_count": 16,
   "id": "939fa979",
   "metadata": {},
   "outputs": [
    {
     "data": {
      "image/png": "[encoded data removed]",
      "text/plain": [
       "<Figure size 432x288 with 2 Axes>"
      ]
     },
     "metadata": {
      "needs_background": "light"
     },
     "output_type": "display_data"
    }
   ],
   "source": [
    "us = []\n",
    "ws = []\n",
    "results = []\n",
    "for u in np.linspace(-10, 10):\n",
    "    for w in np.linspace(-10, 10):\n",
    "        us.append(u)\n",
    "        ws.append(w)\n",
    "        results.append(determine_class({\"U\": u, \"W\": w}))\n",
    "\n",
    "plt.scatter(us, ws, c=results)\n",
    "plt.colorbar()\n",
    "plt.xlabel(\"u\")\n",
    "plt.ylabel(\"w\")\n",
    "plt.scatter(samples_A[\"U\"], samples_A[\"W\"], c=\"orange\")\n",
    "plt.scatter(samples_B[\"U\"], samples_B[\"W\"], c=\"red\")\n",
    "plt.scatter([mid_u_A], [mid_w_A], label=\"center A\", c=\"black\")\n",
    "plt.scatter([mid_u_B], [mid_w_B], label=\"center B\", c=\"gray\")\n",
    "\n",
    "plt.legend();"
   ]
  }
 ],
 "metadata": {
  "kernelspec": {
   "display_name": "Python 3 (ipykernel)",
   "language": "python",
   "name": "python3"
  },
  "language_info": {
   "codemirror_mode": {
    "name": "ipython",
    "version": 3
   },
   "file_extension": ".py",
   "mimetype": "text/x-python",
   "name": "python",
   "nbconvert_exporter": "python",
   "pygments_lexer": "ipython3",
   "version": "3.8.10"
  }
 },
 "nbformat": 4,
 "nbformat_minor": 5
}
