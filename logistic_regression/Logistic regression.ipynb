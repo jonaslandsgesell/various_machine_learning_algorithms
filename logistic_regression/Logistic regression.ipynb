{
 "cells": [
  {
   "cell_type": "markdown",
   "id": "d6e6b037",
   "metadata": {},
   "source": [
    "# Logistic Regression in 1D"
   ]
  },
  {
   "cell_type": "markdown",
   "id": "e15b0cb2",
   "metadata": {},
   "source": [
    "Steps to model target variables between $y(x) \\in [0,1]$:\n",
    "* Train model y_m(x)=sigmoid(a*x+b), with parameters a,b, could be enhanced to a being a matrix\n",
    "* Determine a,b via gradient descent on loss function which is Cross-Entropy\n"
   ]
  },
  {
   "cell_type": "code",
   "execution_count": 1,
   "id": "c812c6fe",
   "metadata": {},
   "outputs": [],
   "source": [
    "import numpy as np\n",
    "\n",
    "\n",
    "def sigmoid(x):\n",
    "    return 1 / (1 + np.exp(-x))\n",
    "\n",
    "\n",
    "def compute_loss(y_train, y_pred):\n",
    "    # crossentropy loss which is to be minimized\n",
    "    return -np.sum(\n",
    "        y_train * np.log(y_pred) + (1 - y_train) * np.log(1 - y_pred), axis=0\n",
    "    )\n",
    "\n",
    "\n",
    "class Logistic_Regression:\n",
    "    def __init__(self):\n",
    "        self.a = 0\n",
    "        self.b = 0\n",
    "\n",
    "    def fit(self, train_set):\n",
    "        x_train = train_set[:, 0]\n",
    "        y_train = train_set[:, 1]\n",
    "        loss = 100\n",
    "        last_loss = 0\n",
    "        counter = 0\n",
    "        while abs(loss - last_loss) > 1e-5:\n",
    "            y_pred = sigmoid(self.a * x_train + self.b)\n",
    "            loss = compute_loss(y_train, y_pred)\n",
    "            # do gradient decent on cross entropy loss with respect to parameters a and b\n",
    "            lr = 0.001\n",
    "            # compare https://towardsdatascience.com/logistic-regression-from-scratch-in-python-ec66603592e2 for gradients\n",
    "            d_loss_da = np.average((y_pred - y_train) * x_train)\n",
    "            d_loss_db = np.average((y_pred - y_train))\n",
    "            self.a -= lr * d_loss_da\n",
    "            self.b -= lr * d_loss_db\n",
    "            y_pred = sigmoid(self.a * x_train + self.b)\n",
    "            last_loss = float(loss)\n",
    "            loss = compute_loss(y_train, y_pred)\n",
    "            counter += 1\n",
    "            if counter % 5000 == 0:\n",
    "                print(f\"Epoch {counter} loss {loss}\")\n",
    "        return self.a, self.b"
   ]
  },
  {
   "cell_type": "code",
   "execution_count": 2,
   "id": "39b44462",
   "metadata": {},
   "outputs": [],
   "source": [
    "# generate train set\n",
    "loc_a = 1\n",
    "loc_b = -6\n",
    "num_samples = 100\n",
    "train_set = np.concatenate(\n",
    "    (\n",
    "        np.concatenate(\n",
    "            (\n",
    "                np.random.normal(loc=(loc_a,), scale=1, size=(num_samples, 1)),\n",
    "                np.ones(shape=(num_samples, 1)),\n",
    "            ),\n",
    "            axis=1,\n",
    "        ),\n",
    "        np.concatenate(\n",
    "            (\n",
    "                np.random.normal(loc=(loc_b,), scale=1, size=(num_samples, 1)),\n",
    "                np.zeros(shape=(num_samples, 1)),\n",
    "            ),\n",
    "            axis=1,\n",
    "        ),\n",
    "    ),\n",
    "    axis=0,\n",
    ")\n",
    "test_set = np.concatenate(\n",
    "    (\n",
    "        np.concatenate(\n",
    "            (\n",
    "                np.random.normal(loc=(loc_a,), scale=1, size=(num_samples, 1)),\n",
    "                np.ones(shape=(num_samples, 1)),\n",
    "            ),\n",
    "            axis=1,\n",
    "        ),\n",
    "        np.concatenate(\n",
    "            (\n",
    "                np.random.normal(loc=(loc_b,), scale=1, size=(num_samples, 1)),\n",
    "                np.zeros(shape=(num_samples, 1)),\n",
    "            ),\n",
    "            axis=1,\n",
    "        ),\n",
    "    ),\n",
    "    axis=0,\n",
    ")\n",
    "\n",
    "# inplace shuffle\n",
    "np.random.shuffle(test_set)\n",
    "np.random.shuffle(train_set)"
   ]
  },
  {
   "cell_type": "code",
   "execution_count": 3,
   "id": "510dcbf0",
   "metadata": {},
   "outputs": [
    {
     "data": {
      "text/plain": [
       "<matplotlib.collections.PathCollection at 0x2a5a6fd3b20>"
      ]
     },
     "execution_count": 3,
     "metadata": {},
     "output_type": "execute_result"
    },
    {
     "data": {
      "image/png": "[encoded data removed]",
      "text/plain": [
       "<Figure size 432x288 with 1 Axes>"
      ]
     },
     "metadata": {
      "needs_background": "light"
     },
     "output_type": "display_data"
    }
   ],
   "source": [
    "import matplotlib.pyplot as plt\n",
    "\n",
    "plt.scatter(train_set[:, 0], train_set[:, 1])"
   ]
  },
  {
   "cell_type": "code",
   "execution_count": 4,
   "id": "a0faac08",
   "metadata": {},
   "outputs": [
    {
     "name": "stdout",
     "output_type": "stream",
     "text": [
      "Epoch 5000 loss 25.259155650323656\n",
      "Epoch 10000 loss 16.748110193109184\n",
      "Epoch 15000 loss 12.613362574485596\n",
      "Epoch 20000 loss 10.136286449291358\n",
      "Epoch 25000 loss 8.482901115485408\n",
      "Epoch 30000 loss 7.301178773695266\n",
      "Epoch 35000 loss 6.415113040004989\n",
      "Epoch 40000 loss 5.726563973551538\n",
      "Epoch 45000 loss 5.176411736526519\n",
      "Epoch 50000 loss 4.726911357649658\n",
      "Epoch 55000 loss 4.352842456757902\n",
      "Epoch 60000 loss 4.0367225221674365\n",
      "Epoch 65000 loss 3.7660590002754417\n",
      "Epoch 70000 loss 3.5316935270597045\n",
      "Epoch 75000 loss 3.3267632971585\n",
      "Epoch 80000 loss 3.1460270330207303\n",
      "Epoch 85000 loss 2.985414635197547\n",
      "Epoch 90000 loss 2.841718578196833\n",
      "Epoch 95000 loss 2.7123776942042968\n",
      "Epoch 100000 loss 2.5953226807219822\n",
      "Epoch 105000 loss 2.488863758410611\n",
      "Epoch 110000 loss 2.3916076807604227\n",
      "Epoch 115000 loss 2.302395545721824\n",
      "Epoch 120000 loss 2.2202555862696083\n",
      "Epoch 125000 loss 2.1443669041379714\n",
      "Epoch 130000 loss 2.0740313048393197\n",
      "Epoch 135000 loss 2.0086512034701074\n",
      "Epoch 140000 loss 1.9477121310300525\n",
      "Epoch 145000 loss 1.890768763438309\n",
      "Epoch 150000 loss 1.8374336740640396\n"
     ]
    }
   ],
   "source": [
    "x_train = train_set[:, 0]\n",
    "y_train = train_set[:, 1]\n",
    "log_reg = Logistic_Regression()\n",
    "a, b = log_reg.fit(train_set)\n",
    "y_pred = sigmoid(a * x_train + b)"
   ]
  },
  {
   "cell_type": "markdown",
   "id": "436f5c91",
   "metadata": {},
   "source": [
    "Let's check how well the logistic regression worked: if the difference in prediction and label is close to zero, then the regression worked rather well."
   ]
  },
  {
   "cell_type": "code",
   "execution_count": 5,
   "id": "6fe77f4a",
   "metadata": {},
   "outputs": [
    {
     "data": {
      "text/plain": [
       "<matplotlib.colorbar.Colorbar at 0x2a5a711e340>"
      ]
     },
     "execution_count": 5,
     "metadata": {},
     "output_type": "execute_result"
    },
    {
     "data": {
      "image/png": "[encoded data removed]",
      "text/plain": [
       "<Figure size 432x288 with 2 Axes>"
      ]
     },
     "metadata": {
      "needs_background": "light"
     },
     "output_type": "display_data"
    }
   ],
   "source": [
    "plt.scatter(x_train, y_pred, c=np.abs(y_pred - y_train))\n",
    "plt.xlabel(\"x\")\n",
    "plt.ylabel(\"y\")\n",
    "plt.colorbar()"
   ]
  },
  {
   "cell_type": "markdown",
   "id": "be618649",
   "metadata": {},
   "source": [
    "Let s check that both labels, 0 and 1 are output:"
   ]
  },
  {
   "cell_type": "code",
   "execution_count": 6,
   "id": "2c50f0f4",
   "metadata": {},
   "outputs": [
    {
     "name": "stdout",
     "output_type": "stream",
     "text": [
      "100 100\n"
     ]
    }
   ],
   "source": [
    "print(np.sum(y_pred > 0.5), np.sum(y_pred < 0.5))"
   ]
  }
 ],
 "metadata": {
  "kernelspec": {
   "display_name": "Python 3 (ipykernel)",
   "language": "python",
   "name": "python3"
  },
  "language_info": {
   "codemirror_mode": {
    "name": "ipython",
    "version": 3
   },
   "file_extension": ".py",
   "mimetype": "text/x-python",
   "name": "python",
   "nbconvert_exporter": "python",
   "pygments_lexer": "ipython3",
   "version": "3.8.10"
  }
 },
 "nbformat": 4,
 "nbformat_minor": 5
}
